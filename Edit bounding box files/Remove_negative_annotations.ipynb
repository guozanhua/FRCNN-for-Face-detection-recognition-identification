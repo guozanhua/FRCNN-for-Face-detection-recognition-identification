{
 "cells": [
  {
   "cell_type": "code",
   "execution_count": 3,
   "metadata": {
    "collapsed": true
   },
   "outputs": [],
   "source": [
    "import os,sys\n",
    "import glob\n",
    "import numpy as np\n",
    "import pandas as pd\n",
    "from xml.etree import ElementTree as ET\n",
    "import lxml.etree\n",
    "import lxml.builder\n",
    "import shutil as sh"
   ]
  },
  {
   "cell_type": "code",
   "execution_count": 58,
   "metadata": {},
   "outputs": [],
   "source": [
    "file_boxes = '/data0/madhu/Dataset/Training/Bounds_fin/'\n",
    "bounds_out = '/data0/madhu/Dataset/Training/Bounds_fin_mod/'\n",
    "#Get the names of all files in the folder\n",
    "dirs = sorted(os.walk(file_boxes).next()[2])\n",
    "\n",
    "#Output diectory to store dir\n",
    "directory = os.path.dirname(bounds_out)\n",
    "#print ('directory=',directory)\n",
    "#Delete folder to clear its contents\n",
    "if os.path.exists(directory):\n",
    "    sh.rmtree(directory)\n",
    "#Create directory if not present\n",
    "if not os.path.exists(directory):\n",
    "    os.makedirs(directory)\n",
    "\n",
    "#Loop through the number of bounds files in the directory\n",
    "for i_fil in range(np.size(dirs)):\n",
    "\n",
    "    #Loop through the file paths of txt files in directory to load bounding box data for each folder\n",
    "    for filename in sorted(glob.glob(file_boxes+dirs[i_fil])): \n",
    "        bounds_array = []\n",
    "        t_array = []\n",
    "        bounds = np.loadtxt(filename)\n",
    "        #print (np.shape(bounds)[0])\n",
    "        \n",
    "        for i in range(np.shape(bounds)[0]):\n",
    "            bounds_array.append(bounds[i].astype(int))\n",
    "            bounds_array[i][bounds_array[i] < 0] = 1\n",
    "            \n",
    "    np.savetxt(bounds_out+dirs[i_fil], bounds_array)\n",
    "\n",
    "                   \n",
    "\n",
    "            "
   ]
  },
  {
   "cell_type": "code",
   "execution_count": 42,
   "metadata": {},
   "outputs": [],
   "source": [
    "g =  np.array([1, 2, -7, -9, 6])\n",
    "x = g"
   ]
  },
  {
   "cell_type": "code",
   "execution_count": 44,
   "metadata": {},
   "outputs": [
    {
     "data": {
      "text/plain": [
       "array([ 1,  2, -7, -9,  6])"
      ]
     },
     "execution_count": 44,
     "metadata": {},
     "output_type": "execute_result"
    }
   ],
   "source": [
    "x"
   ]
  },
  {
   "cell_type": "code",
   "execution_count": 53,
   "metadata": {},
   "outputs": [],
   "source": [
    "g[g < 0] = 1"
   ]
  },
  {
   "cell_type": "code",
   "execution_count": 54,
   "metadata": {},
   "outputs": [
    {
     "data": {
      "text/plain": [
       "array([1, 2, 1, 1, 6])"
      ]
     },
     "execution_count": 54,
     "metadata": {},
     "output_type": "execute_result"
    }
   ],
   "source": [
    "g"
   ]
  }
 ],
 "metadata": {
  "anaconda-cloud": {},
  "kernelspec": {
   "display_name": "Python [conda root]",
   "language": "python",
   "name": "conda-root-py"
  },
  "language_info": {
   "codemirror_mode": {
    "name": "ipython",
    "version": 2
   },
   "file_extension": ".py",
   "mimetype": "text/x-python",
   "name": "python",
   "nbconvert_exporter": "python",
   "pygments_lexer": "ipython2",
   "version": "2.7.13"
  }
 },
 "nbformat": 4,
 "nbformat_minor": 2
}
